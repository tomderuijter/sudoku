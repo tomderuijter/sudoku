{
 "cells": [
  {
   "cell_type": "code",
   "execution_count": 1,
   "metadata": {},
   "outputs": [],
   "source": [
    "# Auto-reloading imports on external change. Re-import is necessary though.\n",
    "%load_ext autoreload\n",
    "%autoreload 2\n",
    "\n",
    "from pathlib import Path\n",
    "\n",
    "import os\n",
    "import sys\n",
    "root = Path().resolve().parents[1]\n",
    "sys.path.append(str(root))\n",
    "\n",
    "import numpy as np\n",
    "import pandas as pd\n",
    "import tensorflow as tf"
   ]
  },
  {
   "cell_type": "code",
   "execution_count": 2,
   "metadata": {},
   "outputs": [],
   "source": [
    "from sudoku.image_parser import parse_grid, load_image\n",
    "from sudoku.plotting import image_from_digits, show_image\n",
    "\n",
    "def is_image(file: str) -> bool: \n",
    "    return (\n",
    "        file.endswith('.jpg') or \n",
    "        file.endswith('.jpeg') or \n",
    "        file.endswith('.png')\n",
    "    )\n",
    "\n",
    "def is_dat(file: str) -> bool: \n",
    "    return (\n",
    "        file.endswith('.sud') or \n",
    "        file.endswith('.dat')\n",
    "    )\n",
    "\n",
    "train_directory = 'data/train_cleaned/'\n",
    "test_directory = 'data/test_cleaned/'\n",
    "\n",
    "additional_images_train = 'data/sudoku_images/'\n",
    "\n",
    "def preprocess_data_from_images(directory):\n",
    "    data = []\n",
    "    for file in sorted(os.listdir(directory)):\n",
    "        if is_image(file):\n",
    "            path = directory + file\n",
    "            img = load_image(path)         \n",
    "            digits = parse_grid(img)\n",
    "            data.append(digits)\n",
    "    return np.array(data)       \n",
    "\n",
    "def get_labels_from_images(directory, skiprows=2):\n",
    "    data = []\n",
    "    for file in sorted(os.listdir(directory)):\n",
    "        if is_dat(file):\n",
    "            path = directory + file\n",
    "            df = pd.read_csv(\n",
    "                 path, \n",
    "                 sep=\"\\s+\", \n",
    "                 skiprows=skiprows, header=None)\n",
    "            data.append(np.array(df).reshape(9, 9))\n",
    "    return np.array(data)       \n",
    "\n",
    "x_train = preprocess_data_from_images(train_directory)\n",
    "x_test = preprocess_data_from_images(test_directory)\n",
    "\n",
    "y_train = get_labels_from_images(train_directory)\n",
    "y_test = get_labels_from_images(test_directory)\n",
    "\n",
    "x_train_add = preprocess_data_from_images(additional_images_train)\n",
    "y_train_add = get_labels_from_images(additional_images_train, skiprows=0)\n",
    "\n",
    "x_train = np.vstack((x_train, x_train_add))\n",
    "y_train = np.vstack((y_train, y_train_add))"
   ]
  },
  {
   "cell_type": "code",
   "execution_count": 3,
   "metadata": {},
   "outputs": [
    {
     "name": "stdout",
     "output_type": "stream",
     "text": [
      "(119, 81, 28, 28) (119, 9, 9) (15, 81, 28, 28) (15, 9, 9)\n"
     ]
    }
   ],
   "source": [
    "print(x_train.shape, y_train.shape, x_test.shape, y_test.shape)"
   ]
  },
  {
   "cell_type": "code",
   "execution_count": 4,
   "metadata": {},
   "outputs": [
    {
     "name": "stdout",
     "output_type": "stream",
     "text": [
      "(60000, 28, 28, 1) (60000, 1) (10000, 1) (10000, 1)\n"
     ]
    }
   ],
   "source": [
    "(x_mnist_train, y_mnist_train), (x_mnist_test, y_mnist_test) = tf.keras.datasets.mnist.load_data()\n",
    "\n",
    "x_mnist_train = x_mnist_train.reshape(x_mnist_train.shape[0], 28, 28, 1)\n",
    "x_mnist_test = x_mnist_test.reshape(x_mnist_test.shape[0], 28, 28, 1)\n",
    "\n",
    "y_mnist_train = y_mnist_train.reshape(y_mnist_train.shape[0], 1)\n",
    "y_mnist_test = y_mnist_test.reshape(y_mnist_test.shape[0], 1)\n",
    "\n",
    "print(x_mnist_train.shape, y_mnist_train.shape, y_mnist_test.shape, y_mnist_test.shape)"
   ]
  },
  {
   "cell_type": "code",
   "execution_count": 5,
   "metadata": {},
   "outputs": [],
   "source": [
    "# show_image(x_mnist_train[5].reshape(28, 28))"
   ]
  },
  {
   "cell_type": "code",
   "execution_count": 6,
   "metadata": {},
   "outputs": [
    {
     "name": "stdout",
     "output_type": "stream",
     "text": [
      "(9639, 28, 28, 1) (9639, 1) (1215, 28, 28, 1) (1215, 1)\n",
      "(69639, 28, 28, 1) (69639, 1) (1215, 28, 28, 1) (1215, 1)\n",
      "Number of images in x_train 69639\n",
      "Number of images in x_test 1215\n"
     ]
    }
   ],
   "source": [
    "# Reshaping the array to 4-dims so that it can work with the Keras API\n",
    "x_train = x_train.reshape(x_train.shape[0]*x_train.shape[1], 28, 28, 1)\n",
    "x_test = x_test.reshape(x_test.shape[0]*x_test.shape[1], 28, 28, 1)\n",
    "\n",
    "y_train = y_train.reshape(y_train.shape[0]*y_train.shape[1]*y_train.shape[2], 1)\n",
    "y_test = y_test.reshape(y_test.shape[0]*y_test.shape[1]*y_test.shape[2], 1)\n",
    "\n",
    "print(x_train.shape, y_train.shape, x_test.shape, y_test.shape)\n",
    "\n",
    "## Adding Mnist training data to the base training data set\n",
    "x_train = np.vstack((x_train, x_mnist_train))\n",
    "y_train = np.vstack((y_train, y_mnist_train))\n",
    "\n",
    "# x_test = np.vstack((x_test, x_mnist_test))\n",
    "# y_test = np.vstack((y_test, y_mnist_test))\n",
    "\n",
    "print(x_train.shape, y_train.shape, x_test.shape, y_test.shape)\n",
    "\n",
    "# Making sure that the values are float so that we can get decimal points after division\n",
    "x_train = x_train.astype('float32')\n",
    "x_test = x_test.astype('float32')\n",
    "\n",
    "# Normalizing the RGB codes by dividing it to the max RGB value.\n",
    "x_train /= 255\n",
    "x_test /= 255\n",
    "\n",
    "print('Number of images in x_train', x_train.shape[0])\n",
    "print('Number of images in x_test', x_test.shape[0])"
   ]
  },
  {
   "cell_type": "code",
   "execution_count": 7,
   "metadata": {},
   "outputs": [
    {
     "name": "stdout",
     "output_type": "stream",
     "text": [
      "WARNING:tensorflow:From /Users/anantkhandelwal/projects/sudoku/venv/lib/python3.7/site-packages/tensorflow_core/python/ops/resource_variable_ops.py:1630: calling BaseResourceVariable.__init__ (from tensorflow.python.ops.resource_variable_ops) with constraint is deprecated and will be removed in a future version.\n",
      "Instructions for updating:\n",
      "If using Keras pass *_constraint arguments to layers.\n"
     ]
    }
   ],
   "source": [
    "# Importing the required Keras modules containing model and layers\n",
    "from tensorflow.keras.models import Sequential\n",
    "from tensorflow.keras.layers import Dense, Conv2D, Dropout, Flatten, MaxPooling2D\n",
    "\n",
    "# Creating a Sequential Model and adding the layers\n",
    "\n",
    "input_shape = (28, 28, 1)\n",
    "\n",
    "model = Sequential()\n",
    "model.add(Conv2D(256, kernel_size=(3,3), input_shape=input_shape))\n",
    "model.add(MaxPooling2D(pool_size=(2, 2)))\n",
    "model.add(Conv2D(128, kernel_size=(3,3)))\n",
    "model.add(MaxPooling2D(pool_size=(2, 2)))\n",
    "model.add(Flatten()) # Flattening the 2D arrays for fully connected layers\n",
    "model.add(Dense(96, activation=tf.nn.relu))\n",
    "model.add(Dropout(0.2))\n",
    "model.add(Dense(64, activation=tf.nn.relu))\n",
    "model.add(Dropout(0.2))\n",
    "model.add(Dense(10,activation=tf.nn.softmax))"
   ]
  },
  {
   "cell_type": "code",
   "execution_count": 8,
   "metadata": {},
   "outputs": [
    {
     "name": "stdout",
     "output_type": "stream",
     "text": [
      "Train on 69639 samples, validate on 1215 samples\n",
      "Epoch 1/100\n",
      "69632/69639 [============================>.] - ETA: 0s - loss: 0.2657 - acc: 0.9234\n",
      "Epoch 00001: val_loss improved from inf to 0.23691, saving model to model_weights_custom.hdf5\n",
      "69639/69639 [==============================] - 99s 1ms/sample - loss: 0.2657 - acc: 0.9234 - val_loss: 0.2369 - val_acc: 0.9498\n",
      "Epoch 2/100\n",
      "69632/69639 [============================>.] - ETA: 0s - loss: 0.1012 - acc: 0.9736\n",
      "Epoch 00002: val_loss improved from 0.23691 to 0.19617, saving model to model_weights_custom.hdf5\n",
      "69639/69639 [==============================] - 99s 1ms/sample - loss: 0.1013 - acc: 0.9736 - val_loss: 0.1962 - val_acc: 0.9630\n",
      "Epoch 3/100\n",
      "69632/69639 [============================>.] - ETA: 0s - loss: 0.0828 - acc: 0.9787\n",
      "Epoch 00003: val_loss improved from 0.19617 to 0.18762, saving model to model_weights_custom.hdf5\n",
      "69639/69639 [==============================] - 96s 1ms/sample - loss: 0.0828 - acc: 0.9787 - val_loss: 0.1876 - val_acc: 0.9630\n",
      "Epoch 4/100\n",
      "69632/69639 [============================>.] - ETA: 0s - loss: 0.0714 - acc: 0.9820\n",
      "Epoch 00004: val_loss did not improve from 0.18762\n",
      "69639/69639 [==============================] - 98s 1ms/sample - loss: 0.0714 - acc: 0.9820 - val_loss: 0.2110 - val_acc: 0.9588\n",
      "Epoch 5/100\n",
      "69632/69639 [============================>.] - ETA: 0s - loss: 0.0620 - acc: 0.9848\n",
      "Epoch 00005: val_loss did not improve from 0.18762\n",
      "69639/69639 [==============================] - 105s 2ms/sample - loss: 0.0620 - acc: 0.9848 - val_loss: 0.1940 - val_acc: 0.9654\n"
     ]
    },
    {
     "data": {
      "text/plain": [
       "<tensorflow.python.keras.callbacks.History at 0x1775c4f50>"
      ]
     },
     "execution_count": 8,
     "metadata": {},
     "output_type": "execute_result"
    }
   ],
   "source": [
    "model.compile(optimizer=\"adam\", \n",
    "              loss='sparse_categorical_crossentropy', \n",
    "              metrics=['accuracy'])\n",
    "\n",
    "es = tf.keras.callbacks.EarlyStopping(monitor='val_loss', patience=2, restore_best_weights=True)\n",
    "ck = tf.keras.callbacks.ModelCheckpoint(filepath=\"model_weights_custom.hdf5\", verbose=1, save_best_only=True)\n",
    "\n",
    "model.fit(x=x_train,y=y_train, validation_data=(x_test, y_test), batch_size=128, epochs=100, callbacks=[es, ck])"
   ]
  },
  {
   "cell_type": "code",
   "execution_count": 150,
   "metadata": {},
   "outputs": [
    {
     "name": "stdout",
     "output_type": "stream",
     "text": [
      "1215/1215 [==============================] - 1s 454us/sample - loss: 0.2032 - acc: 0.9597\n"
     ]
    },
    {
     "data": {
      "text/plain": [
       "[0.20319149561624958, 0.9596708]"
      ]
     },
     "execution_count": 150,
     "metadata": {},
     "output_type": "execute_result"
    }
   ],
   "source": [
    "model.evaluate(x_test, y_test)"
   ]
  },
  {
   "cell_type": "code",
   "execution_count": 9,
   "metadata": {},
   "outputs": [
    {
     "name": "stdout",
     "output_type": "stream",
     "text": [
      "8\n"
     ]
    },
    {
     "data": {
      "image/png": "[encoded data removed]",
      "text/plain": [
       "<Figure size 432x288 with 1 Axes>"
      ]
     },
     "metadata": {
      "needs_background": "light"
     },
     "output_type": "display_data"
    }
   ],
   "source": [
    "image_index = 25\n",
    "pred = model.predict(x_test[image_index].reshape(1, 28, 28, 1))\n",
    "print(pred.argmax())\n",
    "show_image(x_test[image_index].reshape(28, 28))"
   ]
  },
  {
   "cell_type": "code",
   "execution_count": 151,
   "metadata": {},
   "outputs": [
    {
     "name": "stdout",
     "output_type": "stream",
     "text": [
      "8\n"
     ]
    },
    {
     "data": {
      "image/png": "[encoded data removed]",
      "text/plain": [
       "<Figure size 432x288 with 1 Axes>"
      ]
     },
     "metadata": {
      "needs_background": "light"
     },
     "output_type": "display_data"
    }
   ],
   "source": [
    "image_index = 25\n",
    "pred = model.predict(x_test[image_index].reshape(1, 28, 28, 1))\n",
    "print(pred.argmax())\n",
    "show_image(x_test[image_index].reshape(28, 28))"
   ]
  },
  {
   "cell_type": "code",
   "execution_count": 56,
   "metadata": {},
   "outputs": [
    {
     "data": {
      "text/plain": [
       "array([[4.9504708e-04, 6.7337346e-04, 5.0628227e-01, 2.7107231e-03,\n",
       "        4.6309200e-03, 2.0965732e-04, 1.5564318e-03, 1.9035868e-03,\n",
       "        4.8126566e-01, 2.7235667e-04]], dtype=float32)"
      ]
     },
     "execution_count": 56,
     "metadata": {},
     "output_type": "execute_result"
    }
   ],
   "source": [
    "pred"
   ]
  }
 ],
 "metadata": {
  "kernelspec": {
   "display_name": "Python 3",
   "language": "python",
   "name": "python3"
  },
  "language_info": {
   "codemirror_mode": {
    "name": "ipython",
    "version": 3
   },
   "file_extension": ".py",
   "mimetype": "text/x-python",
   "name": "python",
   "nbconvert_exporter": "python",
   "pygments_lexer": "ipython3",
   "version": "3.7.5"
  }
 },
 "nbformat": 4,
 "nbformat_minor": 4
}
